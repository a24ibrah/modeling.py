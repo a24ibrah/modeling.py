{
 "cells": [
  {
   "cell_type": "code",
   "execution_count": 1,
   "metadata": {
    "collapsed": true
   },
   "outputs": [],
   "source": [
    "%matplotlib inline\n",
    "%config InlineBackend.figure_format = 'retina'"
   ]
  },
  {
   "cell_type": "code",
   "execution_count": 2,
   "metadata": {
    "collapsed": false
   },
   "outputs": [
    {
     "name": "stdout",
     "output_type": "stream",
     "text": [
      "0.0.1.dev0\n"
     ]
    }
   ],
   "source": [
    "import modeling\n",
    "print(modeling.__version__)"
   ]
  },
  {
   "cell_type": "code",
   "execution_count": 11,
   "metadata": {
    "collapsed": true
   },
   "outputs": [],
   "source": [
    "import numpy as np\n",
    "import matplotlib.pyplot as pl\n",
    "\n",
    "from modeling import ModelMixin, Parameter, Relationship, parameter_sort"
   ]
  },
  {
   "cell_type": "code",
   "execution_count": 4,
   "metadata": {
    "collapsed": false
   },
   "outputs": [
    {
     "data": {
      "image/png": "[encoded data removed]",
      "text/plain": [
       "<matplotlib.figure.Figure at 0x105a07f98>"
      ]
     },
     "metadata": {
      "image/png": {
       "height": 254,
       "width": 380
      }
     },
     "output_type": "display_data"
    }
   ],
   "source": [
    "x = np.random.rand(20)\n",
    "yerr = 0.05 + np.zeros_like(x)\n",
    "y = 0.5 * x + 0.05 + np.sqrt(yerr**2 + 0.05**2) * np.random.randn(len(x))\n",
    "\n",
    "pl.errorbar(x, y, yerr=yerr, fmt=\".k\", capsize=0);"
   ]
  },
  {
   "cell_type": "code",
   "execution_count": 36,
   "metadata": {
    "collapsed": false
   },
   "outputs": [],
   "source": [
    "class LinearModel(ModelMixin):\n",
    "    \n",
    "    m = Parameter()\n",
    "    b = Parameter()\n",
    "\n",
    "    def get_value(self, x):\n",
    "        return self.m * x + self.b\n",
    "    \n",
    "    @parameter_sort\n",
    "    def get_value_and_gradient(self, x):\n",
    "        return self.get_value(x), dict(m=x, b=np.ones_like(x))\n",
    "\n",
    "\n",
    "class JitterModel(ModelMixin):\n",
    "    \n",
    "    mean = Relationship(LinearModel)\n",
    "    log_sigma = Parameter()\n",
    "    \n",
    "    sigma = Parameter(depends=log_sigma)\n",
    "    \n",
    "    @sigma.getter\n",
    "    def get_sigma(self):\n",
    "        return np.exp(self.log_sigma)\n",
    "    \n",
    "    @sigma.setter\n",
    "    def set_sigma(self, value):\n",
    "        self.log_sigma = np.log(value)\n",
    "        \n",
    "    def __init__(self, x, y, yerr, **kwargs):\n",
    "        self.x = x\n",
    "        self.y = y\n",
    "        self.yvar = yerr ** 2\n",
    "        \n",
    "        super(JitterModel, self).__init__(**kwargs)\n",
    "        \n",
    "    def get_value(self):\n",
    "        var = self.yvar + self.sigma**2\n",
    "        delta = self.y - self.mean.get_value(self.x)\n",
    "        return -0.5 * np.sum(delta**2 / var + np.log(var))\n",
    "    \n",
    "    @parameter_sort\n",
    "    def get_value_and_gradient(self):\n",
    "        model, model_grad = self.mean.get_value_and_gradient(self.x)\n",
    "        var = self.yvar + self.sigma**2\n",
    "        delta = self.y - model\n",
    "        value = -0.5 * np.sum(delta**2 / var + np.log(var))\n",
    "        \n",
    "        grad = dict(log_sigma=self.sigma**2*np.sum(delta**2/var**2 - 1.0 / var))\n",
    "        for i, k in enumerate(self.mean.get_parameter_names()):\n",
    "            grad[\"mean:\" + k] = np.dot(model_grad[i], delta / var)\n",
    "        \n",
    "        return value, grad"
   ]
  },
  {
   "cell_type": "code",
   "execution_count": 37,
   "metadata": {
    "collapsed": false
   },
   "outputs": [],
   "source": [
    "model = JitterModel(x, y, yerr, mean=LinearModel(m=0.2, b=0.0), log_sigma=0.1)"
   ]
  },
  {
   "cell_type": "code",
   "execution_count": 38,
   "metadata": {
    "collapsed": false
   },
   "outputs": [
    {
     "data": {
      "text/plain": [
       "['log_sigma', 'mean:m', 'mean:b']"
      ]
     },
     "execution_count": 38,
     "metadata": {},
     "output_type": "execute_result"
    }
   ],
   "source": [
    "model.get_parameter_names()"
   ]
  },
  {
   "cell_type": "code",
   "execution_count": 39,
   "metadata": {
    "collapsed": false
   },
   "outputs": [
    {
     "data": {
      "text/plain": [
       "array([ 0.1,  0.2,  0. ])"
      ]
     },
     "execution_count": 39,
     "metadata": {},
     "output_type": "execute_result"
    }
   ],
   "source": [
    "model.get_vector()"
   ]
  },
  {
   "cell_type": "code",
   "execution_count": 40,
   "metadata": {
    "collapsed": false
   },
   "outputs": [
    {
     "data": {
      "text/plain": [
       "True"
      ]
     },
     "execution_count": 40,
     "metadata": {},
     "output_type": "execute_result"
    }
   ],
   "source": [
    "model.test_gradient()"
   ]
  },
  {
   "cell_type": "code",
   "execution_count": 41,
   "metadata": {
    "collapsed": false
   },
   "outputs": [],
   "source": [
    "from scipy.optimize import minimize"
   ]
  },
  {
   "cell_type": "code",
   "execution_count": 42,
   "metadata": {
    "collapsed": false
   },
   "outputs": [],
   "source": [
    "def nll(p):\n",
    "    model.set_vector(p)\n",
    "    v, g = model.get_value_and_gradient()\n",
    "    return -v, -g\n",
    "\n",
    "r = minimize(nll, model.get_vector(), jac=True)"
   ]
  },
  {
   "cell_type": "code",
   "execution_count": 43,
   "metadata": {
    "collapsed": false
   },
   "outputs": [
    {
     "data": {
      "text/plain": [
       " hess_inv: array([[  2.10103096e-01,  -3.18820990e-06,   7.54830631e-06],\n",
       "       [ -3.18820990e-06,   2.54545018e-03,  -1.28789175e-03],\n",
       "       [  7.54830631e-06,  -1.28789175e-03,   8.43535163e-04]])\n",
       "     nfev: 29\n",
       "   status: 0\n",
       "      nit: 14\n",
       "      fun: -45.68860379578346\n",
       "        x: array([-3.31702569,  0.48009229,  0.00817683])\n",
       "      jac: array([  3.21378575e-08,  -3.64773450e-07,  -8.33182881e-07])\n",
       "  success: True\n",
       "     njev: 29\n",
       "  message: 'Optimization terminated successfully.'"
      ]
     },
     "execution_count": 43,
     "metadata": {},
     "output_type": "execute_result"
    }
   ],
   "source": [
    "r"
   ]
  },
  {
   "cell_type": "code",
   "execution_count": 45,
   "metadata": {
    "collapsed": false
   },
   "outputs": [
    {
     "data": {
      "text/plain": [
       "array([-3.31702569,  0.48009229,  0.00817683])"
      ]
     },
     "execution_count": 45,
     "metadata": {},
     "output_type": "execute_result"
    }
   ],
   "source": [
    "model.get_vector()"
   ]
  },
  {
   "cell_type": "code",
   "execution_count": null,
   "metadata": {
    "collapsed": true
   },
   "outputs": [],
   "source": []
  }
 ],
 "metadata": {
  "kernelspec": {
   "display_name": "Python 3",
   "language": "python",
   "name": "python3"
  },
  "language_info": {
   "codemirror_mode": {
    "name": "ipython",
    "version": 3
   },
   "file_extension": ".py",
   "mimetype": "text/x-python",
   "name": "python",
   "nbconvert_exporter": "python",
   "pygments_lexer": "ipython3",
   "version": "3.4.3"
  }
 },
 "nbformat": 4,
 "nbformat_minor": 0
}
