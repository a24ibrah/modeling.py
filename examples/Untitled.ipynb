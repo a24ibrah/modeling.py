{
 "cells": [
  {
   "cell_type": "code",
   "execution_count": 1,
   "metadata": {
    "collapsed": true
   },
   "outputs": [],
   "source": [
    "%matplotlib inline\n",
    "%config InlineBackend.figure_format = 'retina'"
   ]
  },
  {
   "cell_type": "code",
   "execution_count": 2,
   "metadata": {
    "collapsed": false
   },
   "outputs": [
    {
     "name": "stdout",
     "output_type": "stream",
     "text": [
      "0.0.1.dev0\n"
     ]
    }
   ],
   "source": [
    "import modeling\n",
    "print(modeling.__version__)"
   ]
  },
  {
   "cell_type": "code",
   "execution_count": 3,
   "metadata": {
    "collapsed": true
   },
   "outputs": [],
   "source": [
    "import numpy as np\n",
    "import matplotlib.pyplot as pl\n",
    "\n",
    "from modeling import ModelMixin, Parameter, parameter_sort"
   ]
  },
  {
   "cell_type": "code",
   "execution_count": 4,
   "metadata": {
    "collapsed": false
   },
   "outputs": [
    {
     "name": "stderr",
     "output_type": "stream",
     "text": [
      "/Users/dfm/anaconda/lib/python3.4/site-packages/matplotlib/collections.py:590: FutureWarning: elementwise comparison failed; returning scalar instead, but in the future will perform elementwise comparison\n",
      "  if self._edgecolors == str('face'):\n",
      "/Users/dfm/anaconda/lib/python3.4/site-packages/matplotlib/collections.py:590: FutureWarning: elementwise comparison failed; returning scalar instead, but in the future will perform elementwise comparison\n",
      "  if self._edgecolors == str('face'):\n"
     ]
    },
    {
     "data": {
      "image/png": "[encoded data removed]",
      "text/plain": [
       "<matplotlib.figure.Figure at 0x1069b15c0>"
      ]
     },
     "metadata": {
      "image/png": {
       "height": 254,
       "width": 380
      }
     },
     "output_type": "display_data"
    }
   ],
   "source": [
    "x = np.random.rand(20)\n",
    "yerr = 0.05 + np.zeros_like(x)\n",
    "y = 0.5 * x + 0.05 + np.sqrt(yerr**2 + 0.05**2) * np.random.randn(len(x))\n",
    "\n",
    "pl.errorbar(x, y, yerr=yerr, fmt=\".k\", capsize=0);"
   ]
  },
  {
   "cell_type": "code",
   "execution_count": 5,
   "metadata": {
    "collapsed": false
   },
   "outputs": [],
   "source": [
    "class Model(ModelMixin):\n",
    "    \n",
    "    m = Parameter()\n",
    "    b = Parameter()\n",
    "    log_sigma = Parameter()\n",
    "    \n",
    "    sigma = Parameter(depends=log_sigma)\n",
    "    @sigma.getter\n",
    "    def get_sigma(self):\n",
    "        return np.exp(self.log_sigma)\n",
    "    \n",
    "    @sigma.setter\n",
    "    def set_sigma(self, value):\n",
    "        self.log_sigma = np.log(value)\n",
    "        \n",
    "    def __init__(self, x, y, yerr, **kwargs):\n",
    "        self.x = x\n",
    "        self.y = y\n",
    "        self.yvar = yerr ** 2\n",
    "        \n",
    "        super(Model, self).__init__(**kwargs)\n",
    "        \n",
    "    def get_value(self):\n",
    "        var = self.yvar + self.sigma**2\n",
    "        delta = self.y - (self.m * self.x + self.b)\n",
    "        return -0.5 * np.sum(delta**2 / var + np.log(var))\n",
    "    \n",
    "    @parameter_sort\n",
    "    def get_value_and_gradient(self):\n",
    "        var = self.yvar + self.sigma**2\n",
    "        delta = self.y - (self.m * self.x + self.b)\n",
    "        value = -0.5 * np.sum(delta**2 / var + np.log(var))\n",
    "        \n",
    "        return value, dict(\n",
    "            m=np.dot(self.x, delta / var),\n",
    "            b=np.dot(np.ones(len(self.x)), delta / var),\n",
    "            log_sigma=self.sigma**2*np.sum(delta**2/var**2 - 1.0 / var)\n",
    "        )"
   ]
  },
  {
   "cell_type": "code",
   "execution_count": 16,
   "metadata": {
    "collapsed": false
   },
   "outputs": [],
   "source": [
    "model = Model(x, y, yerr, m=0.2, b=0.0, log_sigma=0.1)"
   ]
  },
  {
   "cell_type": "code",
   "execution_count": 17,
   "metadata": {
    "collapsed": false
   },
   "outputs": [
    {
     "data": {
      "text/plain": [
       "True"
      ]
     },
     "execution_count": 17,
     "metadata": {},
     "output_type": "execute_result"
    }
   ],
   "source": [
    "model.test_gradient()"
   ]
  },
  {
   "cell_type": "code",
   "execution_count": 18,
   "metadata": {
    "collapsed": false
   },
   "outputs": [],
   "source": [
    "from scipy.optimize import minimize"
   ]
  },
  {
   "cell_type": "code",
   "execution_count": 19,
   "metadata": {
    "collapsed": false
   },
   "outputs": [],
   "source": [
    "def nll(p):\n",
    "    model.set_vector(p)\n",
    "    v, g = model.get_value_and_gradient()\n",
    "    return -v, -g\n",
    "\n",
    "r = minimize(nll, model.get_vector(), jac=True)"
   ]
  },
  {
   "cell_type": "code",
   "execution_count": 20,
   "metadata": {
    "collapsed": false
   },
   "outputs": [
    {
     "data": {
      "text/plain": [
       "  message: 'Optimization terminated successfully.'\n",
       "   status: 0\n",
       "        x: array([ 0.59939024,  0.0058301 , -3.92165654])\n",
       "      nit: 16\n",
       "  success: True\n",
       "      jac: array([  7.64880030e-06,   1.01701390e-06,  -9.33718073e-08])\n",
       "      fun: -48.45680066914205\n",
       "     nfev: 29\n",
       " hess_inv: array([[  1.96555921e-03,  -1.12492532e-03,   9.69107064e-04],\n",
       "       [ -1.12492532e-03,   7.91058482e-04,  -8.25411090e-04],\n",
       "       [  9.69107064e-04,  -8.25411090e-04,   1.32054201e+00]])\n",
       "     njev: 29"
      ]
     },
     "execution_count": 20,
     "metadata": {},
     "output_type": "execute_result"
    }
   ],
   "source": [
    "r"
   ]
  },
  {
   "cell_type": "code",
   "execution_count": null,
   "metadata": {
    "collapsed": true
   },
   "outputs": [],
   "source": []
  }
 ],
 "metadata": {
  "kernelspec": {
   "display_name": "Python 3",
   "language": "python",
   "name": "python3"
  },
  "language_info": {
   "codemirror_mode": {
    "name": "ipython",
    "version": 3
   },
   "file_extension": ".py",
   "mimetype": "text/x-python",
   "name": "python",
   "nbconvert_exporter": "python",
   "pygments_lexer": "ipython3",
   "version": "3.4.3"
  }
 },
 "nbformat": 4,
 "nbformat_minor": 0
}
