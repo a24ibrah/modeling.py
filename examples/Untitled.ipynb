{
 "cells": [
  {
   "cell_type": "code",
   "execution_count": 1,
   "metadata": {
    "collapsed": true
   },
   "outputs": [],
   "source": [
    "%matplotlib inline\n",
    "%config InlineBackend.figure_format = 'retina'"
   ]
  },
  {
   "cell_type": "code",
   "execution_count": 2,
   "metadata": {
    "collapsed": false
   },
   "outputs": [
    {
     "name": "stdout",
     "output_type": "stream",
     "text": [
      "0.0.1.dev0\n"
     ]
    }
   ],
   "source": [
    "import modeling\n",
    "print(modeling.__version__)"
   ]
  },
  {
   "cell_type": "code",
   "execution_count": 3,
   "metadata": {
    "collapsed": true
   },
   "outputs": [],
   "source": [
    "import numpy as np\n",
    "import matplotlib.pyplot as pl\n",
    "\n",
    "from modeling import ModelMixin, Parameter, Relationship, parameter_sort"
   ]
  },
  {
   "cell_type": "code",
   "execution_count": 4,
   "metadata": {
    "collapsed": false
   },
   "outputs": [
    {
     "data": {
      "image/png": "[encoded data removed]",
      "text/plain": [
       "<matplotlib.figure.Figure at 0x1059e8198>"
      ]
     },
     "metadata": {
      "image/png": {
       "height": 254,
       "width": 380
      }
     },
     "output_type": "display_data"
    }
   ],
   "source": [
    "x = np.random.rand(20)\n",
    "yerr = 0.05 + np.zeros_like(x)\n",
    "y = 0.5 * x + 0.05 + np.sqrt(yerr**2 + 0.05**2) * np.random.randn(len(x))\n",
    "\n",
    "pl.errorbar(x, y, yerr=yerr, fmt=\".k\", capsize=0);"
   ]
  },
  {
   "cell_type": "code",
   "execution_count": 5,
   "metadata": {
    "collapsed": false
   },
   "outputs": [],
   "source": [
    "class LinearModel(ModelMixin):\n",
    "    \n",
    "    m = Parameter()\n",
    "    b = Parameter()\n",
    "\n",
    "    def get_value(self, x):\n",
    "        return self.m * x + self.b\n",
    "    \n",
    "    @parameter_sort\n",
    "    def get_value_and_gradient(self, x):\n",
    "        return self.get_value(x), dict(m=x, b=np.ones_like(x))\n",
    "\n",
    "\n",
    "class JitterModel(ModelMixin):\n",
    "    \n",
    "    mean = Relationship(LinearModel)\n",
    "    log_sigma = Parameter()\n",
    "    \n",
    "    sigma = Parameter(depends=log_sigma)\n",
    "    \n",
    "    @sigma.getter\n",
    "    def get_sigma(self):\n",
    "        return np.exp(self.log_sigma)\n",
    "    \n",
    "    @sigma.setter\n",
    "    def set_sigma(self, value):\n",
    "        self.log_sigma = np.log(value)\n",
    "        \n",
    "    def __init__(self, x, y, yerr, **kwargs):\n",
    "        self.x = x\n",
    "        self.y = y\n",
    "        self.yvar = yerr ** 2\n",
    "        \n",
    "        super(JitterModel, self).__init__(**kwargs)\n",
    "        \n",
    "    def get_value(self):\n",
    "        var = self.yvar + self.sigma**2\n",
    "        delta = self.y - self.mean.get_value(self.x)\n",
    "        return -0.5 * np.sum(delta**2 / var + np.log(var))\n",
    "    \n",
    "    @parameter_sort\n",
    "    def get_value_and_gradient(self):\n",
    "        model, model_grad = self.mean.get_value_and_gradient(self.x)\n",
    "        var = self.yvar + self.sigma**2\n",
    "        delta = self.y - model\n",
    "        value = -0.5 * np.sum(delta**2 / var + np.log(var))\n",
    "        \n",
    "        grad = dict(log_sigma=self.sigma**2*np.sum(delta**2/var**2 - 1.0 / var))\n",
    "        for i, k in enumerate(self.mean.get_parameter_names()):\n",
    "            grad[\"mean:\" + k] = np.dot(model_grad[i], delta / var)\n",
    "        \n",
    "        return value, grad"
   ]
  },
  {
   "cell_type": "code",
   "execution_count": 6,
   "metadata": {
    "collapsed": false
   },
   "outputs": [],
   "source": [
    "model = JitterModel(x, y, yerr, mean=LinearModel(m=0.2, b=0.0), log_sigma=0.1)"
   ]
  },
  {
   "cell_type": "code",
   "execution_count": 7,
   "metadata": {
    "collapsed": false
   },
   "outputs": [
    {
     "data": {
      "text/plain": [
       "'JitterModel(log_sigma=0.1, mean=LinearModel(m=0.2, b=0.0))'"
      ]
     },
     "execution_count": 7,
     "metadata": {},
     "output_type": "execute_result"
    }
   ],
   "source": [
    "repr(model)"
   ]
  },
  {
   "cell_type": "code",
   "execution_count": 9,
   "metadata": {
    "collapsed": false
   },
   "outputs": [
    {
     "data": {
      "text/plain": [
       "['log_sigma', 'mean:m', 'mean:b']"
      ]
     },
     "execution_count": 9,
     "metadata": {},
     "output_type": "execute_result"
    }
   ],
   "source": [
    "model.get_parameter_names()"
   ]
  },
  {
   "cell_type": "code",
   "execution_count": 10,
   "metadata": {
    "collapsed": false
   },
   "outputs": [
    {
     "data": {
      "text/plain": [
       "array([ 0.1,  0.2,  0. ])"
      ]
     },
     "execution_count": 10,
     "metadata": {},
     "output_type": "execute_result"
    }
   ],
   "source": [
    "model.get_vector()"
   ]
  },
  {
   "cell_type": "code",
   "execution_count": 11,
   "metadata": {
    "collapsed": false
   },
   "outputs": [
    {
     "data": {
      "text/plain": [
       "True"
      ]
     },
     "execution_count": 11,
     "metadata": {},
     "output_type": "execute_result"
    }
   ],
   "source": [
    "model.test_gradient()"
   ]
  },
  {
   "cell_type": "code",
   "execution_count": 12,
   "metadata": {
    "collapsed": false
   },
   "outputs": [],
   "source": [
    "from scipy.optimize import minimize"
   ]
  },
  {
   "cell_type": "code",
   "execution_count": 13,
   "metadata": {
    "collapsed": false
   },
   "outputs": [],
   "source": [
    "def nll(p):\n",
    "    model.set_vector(p)\n",
    "    v, g = model.get_value_and_gradient()\n",
    "    return -v, -g\n",
    "\n",
    "r = minimize(nll, model.get_vector(), jac=True)"
   ]
  },
  {
   "cell_type": "code",
   "execution_count": 14,
   "metadata": {
    "collapsed": false
   },
   "outputs": [
    {
     "data": {
      "text/plain": [
       "        x: array([-9.06129113,  0.47690105,  0.06702333])\n",
       "      fun: -50.35082196500113\n",
       "  message: 'Optimization terminated successfully.'\n",
       "  success: True\n",
       "   status: 0\n",
       "     njev: 37\n",
       "      nit: 24\n",
       " hess_inv: array([[  3.68484767e+04,   8.51548903e-04,  -6.56334504e-04],\n",
       "       [  8.51548903e-04,   1.25733716e-03,  -6.79443681e-04],\n",
       "       [ -6.56334504e-04,  -6.79443681e-04,   4.85041791e-04]])\n",
       "      jac: array([  4.70182095e-06,   1.23107548e-06,   8.84635109e-06])\n",
       "     nfev: 37"
      ]
     },
     "execution_count": 14,
     "metadata": {},
     "output_type": "execute_result"
    }
   ],
   "source": [
    "r"
   ]
  },
  {
   "cell_type": "code",
   "execution_count": null,
   "metadata": {
    "collapsed": false
   },
   "outputs": [],
   "source": [
    "model.get_vector()"
   ]
  },
  {
   "cell_type": "code",
   "execution_count": null,
   "metadata": {
    "collapsed": true
   },
   "outputs": [],
   "source": []
  },
  {
   "cell_type": "code",
   "execution_count": null,
   "metadata": {
    "collapsed": true
   },
   "outputs": [],
   "source": []
  },
  {
   "cell_type": "code",
   "execution_count": null,
   "metadata": {
    "collapsed": true
   },
   "outputs": [],
   "source": [
    "from six import with_metaclass"
   ]
  },
  {
   "cell_type": "code",
   "execution_count": null,
   "metadata": {
    "collapsed": false
   },
   "outputs": [],
   "source": [
    "class Meta(type):\n",
    "    def __new__(cls, *args, **kwargs):\n",
    "        return super(Meta, cls).__new__(cls, *args, **kwargs)\n",
    "\n",
    "class Face(with_metaclass(Meta, object)):\n",
    "    def __new__(cls):\n",
    "        return super(Face, cls).__new__(cls)\n",
    "\n",
    "class Face2(Face):\n",
    "    pass\n",
    "\n",
    "f = Face2()\n",
    "f.__class__.__name__"
   ]
  },
  {
   "cell_type": "code",
   "execution_count": null,
   "metadata": {
    "collapsed": true
   },
   "outputs": [],
   "source": []
  },
  {
   "cell_type": "code",
   "execution_count": null,
   "metadata": {
    "collapsed": true
   },
   "outputs": [],
   "source": []
  }
 ],
 "metadata": {
  "kernelspec": {
   "display_name": "Python 3",
   "language": "python",
   "name": "python3"
  },
  "language_info": {
   "codemirror_mode": {
    "name": "ipython",
    "version": 3
   },
   "file_extension": ".py",
   "mimetype": "text/x-python",
   "name": "python",
   "nbconvert_exporter": "python",
   "pygments_lexer": "ipython3",
   "version": "3.4.3"
  }
 },
 "nbformat": 4,
 "nbformat_minor": 0
}
