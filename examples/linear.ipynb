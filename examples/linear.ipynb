{
 "cells": [
  {
   "cell_type": "code",
   "execution_count": 1,
   "metadata": {
    "collapsed": true
   },
   "outputs": [],
   "source": [
    "import numpy as np\n",
    "import matplotlib.pyplot as plt\n",
    "from scipy.optimize import minimize"
   ]
  },
  {
   "cell_type": "code",
   "execution_count": 2,
   "metadata": {
    "collapsed": false
   },
   "outputs": [
    {
     "data": {
      "text/plain": [
       "'0.0.1'"
      ]
     },
     "execution_count": 2,
     "metadata": {},
     "output_type": "execute_result"
    }
   ],
   "source": [
    "import modeling\n",
    "modeling.__version__"
   ]
  },
  {
   "cell_type": "code",
   "execution_count": 3,
   "metadata": {
    "collapsed": true
   },
   "outputs": [],
   "source": [
    "np.random.seed(42)\n",
    "x = np.sort(np.random.uniform(-5, 5, 10))\n",
    "y = 0.5 * x - 0.01 + 0.1 * np.random.randn(len(x))"
   ]
  },
  {
   "cell_type": "code",
   "execution_count": 4,
   "metadata": {
    "collapsed": false
   },
   "outputs": [],
   "source": [
    "class LineLogLike(modeling.Model):\n",
    "    parameter_names = (\"m\", \"b\", \"log_sigma\")\n",
    "    \n",
    "    def get_value(self, x, y):\n",
    "        mu = self.m * x + self.b\n",
    "        r2 = np.sum((y - mu)**2) * np.exp(-2*self.log_sigma)\n",
    "        norm = 2.0 * self.log_sigma\n",
    "        return -0.5 * (r2 + norm)\n",
    "    \n",
    "    def compute_gradient(self, x, y):\n",
    "        sigma = np.exp(self.log_sigma)\n",
    "        r = (y - (self.m * x + self.b))\n",
    "        dldm = np.sum(r * x) / sigma**2\n",
    "        dldb = np.sum(r) / sigma**2\n",
    "        dlds = np.sum(r**2) / sigma**2 - 1\n",
    "        return np.array([dldm, dldb, dlds])\n",
    "    \n",
    "    def log_prior(self):\n",
    "        lp = super(LineLogLike, self).log_prior()\n",
    "        if not np.isfinite(lp):\n",
    "            return -np.inf\n",
    "        return lp - 1.5 * np.log(1.0 + self.m**2)\n",
    "    \n",
    "model = LineLogLike(\n",
    "    m=0.1, b=0.5, log_sigma=-1.0,\n",
    "    bounds=dict(\n",
    "        m=(-5, 5), b=(-5, 5), log_sigma=(-10, 1),\n",
    "    ),\n",
    ")\n",
    "modeling.check_gradient(model, x, y)\n",
    "\n",
    "def nll_and_jac(params, model, x, y):\n",
    "    model.set_parameter_vector(params)\n",
    "    return -model.get_value(x, y), -model.get_gradient(x, y)"
   ]
  },
  {
   "cell_type": "code",
   "execution_count": 5,
   "metadata": {
    "collapsed": false
   },
   "outputs": [
    {
     "data": {
      "text/plain": [
       "      fun: -0.9306652401969896\n",
       " hess_inv: <3x3 LbfgsInvHessProduct with dtype=float64>\n",
       "      jac: array([  2.78785760e-07,   4.07801687e-07,   1.20898535e-07])\n",
       "  message: b'CONVERGENCE: NORM_OF_PROJECTED_GRADIENT_<=_PGTOL'\n",
       "     nfev: 21\n",
       "      nit: 16\n",
       "   status: 0\n",
       "  success: True\n",
       "        x: array([ 0.49400289, -0.06392406, -1.43066518])"
      ]
     },
     "execution_count": 5,
     "metadata": {},
     "output_type": "execute_result"
    }
   ],
   "source": [
    "initial_params = model.get_parameter_vector()\n",
    "bounds = model.get_parameter_bounds()\n",
    "soln = minimize(nll_and_jac, initial_params, bounds=bounds,\n",
    "                jac=True, method=\"L-BFGS-B\",\n",
    "                args=(model, x, y))\n",
    "model.set_parameter_vector(soln.x)\n",
    "soln"
   ]
  },
  {
   "cell_type": "code",
   "execution_count": null,
   "metadata": {
    "collapsed": true
   },
   "outputs": [],
   "source": []
  }
 ],
 "metadata": {
  "kernelspec": {
   "display_name": "Python 3",
   "language": "python",
   "name": "python3"
  },
  "language_info": {
   "codemirror_mode": {
    "name": "ipython",
    "version": 3
   },
   "file_extension": ".py",
   "mimetype": "text/x-python",
   "name": "python",
   "nbconvert_exporter": "python",
   "pygments_lexer": "ipython3",
   "version": "3.6.0"
  }
 },
 "nbformat": 4,
 "nbformat_minor": 2
}
